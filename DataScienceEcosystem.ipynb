{
  "metadata": {
    "kernelspec": {
      "name": "python",
      "display_name": "Python (Pyodide)",
      "language": "python"
    },
    "language_info": {
      "codemirror_mode": {
        "name": "python",
        "version": 3
      },
      "file_extension": ".py",
      "mimetype": "text/x-python",
      "name": "python",
      "nbconvert_exporter": "python",
      "pygments_lexer": "ipython3",
      "version": "3.8"
    }
  },
  "nbformat_minor": 5,
  "nbformat": 4,
  "cells": [
    {
      "id": "ca3d6b3c-7c52-4b81-b568-6798b776f0e5",
      "cell_type": "markdown",
      "source": "Exercise 2: Create markdown cell with title of the notebook\n\nCreate a markdown cell with the title Data Science Tools and Ecosystem using H1 style heading.\n",
      "metadata": {}
    },
    {
      "id": "96cc22cd-02b7-4b08-9a8a-b63975bcf0ea",
      "cell_type": "markdown",
      "source": "# Data Science Tools and Ecosystem",
      "metadata": {}
    },
    {
      "id": "6ba9a2de-9272-44a5-a6c2-25375e3e1ce3",
      "cell_type": "markdown",
      "source": "Exercise 11 - Create a markdown cell to indicate the Author's name\n## Author:\nYosef Gael Sanchez Franco",
      "metadata": {}
    },
    {
      "id": "10b168b7-a497-4813-8293-cd2bddc63748",
      "cell_type": "markdown",
      "source": "Exercise 3 - Create a markdown cell for an introduction\nWrite an introductory sentence about the notebook such as the follows:\nIn this notebook, Data Science Tools and Ecosystem are summarized.",
      "metadata": {}
    },
    {
      "id": "307cebfd-574f-4bdd-9218-668893b642ad",
      "cell_type": "markdown",
      "source": "In this notebook, Data Science Tools and Ecosystem are sumarized",
      "metadata": {}
    },
    {
      "id": "1a3123e8-8d78-4396-9951-04efb04331c6",
      "cell_type": "markdown",
      "source": "Exercise 10 - Insert a markdown cell to list Objectives.\n\n\n**Objectives**\n\n* List popular languages for Data Science\n* List of commonly used libraries used by Data Scientists\n* Examples of evaluating arithmetic expressions in Python\n",
      "metadata": {}
    },
    {
      "id": "f315472e-e6d0-4828-a8f3-05ca9cab7d17",
      "cell_type": "markdown",
      "source": "Exercise 4 - Create a markdown cell to list data science languages\nStart the cell with an overview line such as:\nSome of the popular languages that Data Scientists use are:\nThen create an ordered list (i.e. numbered) listing 3 (or more) commonly used languages for data science.",
      "metadata": {}
    },
    {
      "id": "316a41e9-3fa6-4ae3-8c03-d6a026e5852b",
      "cell_type": "markdown",
      "source": "Some of the popular languages that Data Scientists use are:\n1. Python \n2. R\n3. SQL",
      "metadata": {}
    },
    {
      "id": "e7db590f-5599-4220-8fd3-f6f9657455bf",
      "cell_type": "markdown",
      "source": "Exercise 5 - Create a markdown cell to list data science libraries\nAdd an overview line to the cell like:\nSome of the commonly used libraries used by Data Scientists include:\nBelow this line add an ordered list listing 3 (or more) commonly used libraries in data science.",
      "metadata": {}
    },
    {
      "id": "f31101df-c222-420a-adc9-f22b98fc320e",
      "cell_type": "markdown",
      "source": "Some of the commonly used libraries used by Data Scientists include:\n1. Pandas\n2. Matplotlib\n3. Numpy",
      "metadata": {}
    },
    {
      "id": "3b1ef286-2320-4119-8e85-eab1b13ef4ec",
      "cell_type": "markdown",
      "source": "Exercise 6 - Create a markdown cell with a table of Data Science tools\nCreate a single column table in this cell with the first row containing the header Data Science Tools. The subsequent three rows in the table should indicate three development environment open source tools used in data science.\n",
      "metadata": {}
    },
    {
      "id": "56a00415-275d-4fb7-b53a-2342db26fc92",
      "cell_type": "markdown",
      "source": "| Data Science Tools |\n|--------------------|\n| Jupyter Notebook   |\n| Apache Spark       |\n| Tensor Flow        |",
      "metadata": {}
    },
    {
      "id": "85cc6ecd-6e46-401d-9b97-2042cbb5cd2c",
      "cell_type": "markdown",
      "source": "Exercise 7 - Create a markdown cell introducing arithmetic expression examples\nAdd a line in this cell with H3 style heading with text like:\nBelow are a few examples of evaluating arithmetic expressions in Python.",
      "metadata": {}
    },
    {
      "id": "a37f5753-0bc5-4b21-84fa-d5bce93216de",
      "cell_type": "markdown",
      "source": "### Below are a few examples of evaluating arithmetic expressions in Python",
      "metadata": {}
    },
    {
      "id": "cad84f2c-11e0-43d4-9e6a-2da10c9f0d5c",
      "cell_type": "markdown",
      "source": "Exercise 8 - Create a code cell to multiply and add numbers\nIn this code cell evaluate the expression (3*4)+5.\nInsert a comment line before the expression to explain the operation e.g.  This a simple arithmetic expression to mutiply then add integers.\nThen execute the cell to ensure the expression returns the expected output of 17.",
      "metadata": {}
    },
    {
      "id": "72144a00-899f-4c95-b588-dc2e765002dc",
      "cell_type": "code",
      "source": "(3*4)+5\n#This is a simple arithmetic expression to multiply then add integers",
      "metadata": {
        "trusted": true
      },
      "outputs": [
        {
          "execution_count": 2,
          "output_type": "execute_result",
          "data": {
            "text/plain": "17"
          },
          "metadata": {}
        }
      ],
      "execution_count": 2
    },
    {
      "id": "fac76aa6-de6b-4a38-a99f-60ff34ae5990",
      "cell_type": "markdown",
      "source": "Exercise 9 - Create a code cell to convert minutes to hours\nIn this code cell write an expression that converts 200 minutes into hours.\nInsert a comment line before the expression to explain the operation e.g.  This will convert 200 minutes to hours by diving by 60.\nRun the cell to evaluate the expression.",
      "metadata": {}
    },
    {
      "id": "9d2be198-a876-4f9d-9939-d5517bea9a71",
      "cell_type": "code",
      "source": "200/60\n#This will convert 200 minutes to hours by dividing by 60",
      "metadata": {
        "trusted": true
      },
      "outputs": [
        {
          "execution_count": 3,
          "output_type": "execute_result",
          "data": {
            "text/plain": "3.3333333333333335"
          },
          "metadata": {}
        }
      ],
      "execution_count": 3
    },
    {
      "id": "2c49f472-6606-49dd-b5cb-701dc60f2c1b",
      "cell_type": "markdown",
      "source": "Exercise 10 - Insert a markdown cell to list Objectives\n",
      "metadata": {}
    },
    {
      "id": "d93aa374-d52c-487d-9ebc-e5eca507f47e",
      "cell_type": "code",
      "source": "",
      "metadata": {
        "trusted": true
      },
      "outputs": [],
      "execution_count": null
    },
    {
      "id": "3cddf65b-7250-46d1-9083-3ad565ddc094",
      "cell_type": "code",
      "source": "",
      "metadata": {
        "trusted": true
      },
      "outputs": [],
      "execution_count": null
    }
  ]
}